{
 "cells": [
  {
   "cell_type": "code",
   "execution_count": 1,
   "metadata": {
    "ExecuteTime": {
     "end_time": "2021-06-28T11:04:35.073636Z",
     "start_time": "2021-06-28T11:04:33.440541Z"
    }
   },
   "outputs": [],
   "source": [
    "import pandas as pd\n",
    "import numpy as np\n",
    "import tqdm\n",
    "from tqdm import tqdm\n",
    "from tqdm import trange\n",
    "import re"
   ]
  },
  {
   "cell_type": "code",
   "execution_count": 2,
   "metadata": {
    "ExecuteTime": {
     "end_time": "2021-06-28T11:04:35.166563Z",
     "start_time": "2021-06-28T11:04:35.078932Z"
    }
   },
   "outputs": [
    {
     "data": {
      "text/html": [
       "<div>\n",
       "<style scoped>\n",
       "    .dataframe tbody tr th:only-of-type {\n",
       "        vertical-align: middle;\n",
       "    }\n",
       "\n",
       "    .dataframe tbody tr th {\n",
       "        vertical-align: top;\n",
       "    }\n",
       "\n",
       "    .dataframe thead th {\n",
       "        text-align: right;\n",
       "    }\n",
       "</style>\n",
       "<table border=\"1\" class=\"dataframe\">\n",
       "  <thead>\n",
       "    <tr style=\"text-align: right;\">\n",
       "      <th></th>\n",
       "      <th>Unnamed: 0</th>\n",
       "      <th>Unnamed: 0.1</th>\n",
       "      <th>Unnamed: 0.1.1</th>\n",
       "      <th>店铺名称</th>\n",
       "      <th>用户名</th>\n",
       "      <th>评论</th>\n",
       "      <th>scores</th>\n",
       "      <th>res</th>\n",
       "    </tr>\n",
       "  </thead>\n",
       "  <tbody>\n",
       "    <tr>\n",
       "      <td>0</td>\n",
       "      <td>28784</td>\n",
       "      <td>28784</td>\n",
       "      <td>0</td>\n",
       "      <td>江南道自助烤肉海鲜涮锅（柳浪湾店）</td>\n",
       "      <td>vZs846144283</td>\n",
       "      <td>在西财那边和新尚天地这里的都吃过，味道真的一绝，特别是里面各种肉类，超级美味，寝室团建我们可...</td>\n",
       "      <td>14.800</td>\n",
       "      <td>1</td>\n",
       "    </tr>\n",
       "    <tr>\n",
       "      <td>1</td>\n",
       "      <td>28785</td>\n",
       "      <td>28785</td>\n",
       "      <td>1</td>\n",
       "      <td>江南道自助烤肉海鲜涮锅（柳浪湾店）</td>\n",
       "      <td>HeS153085382</td>\n",
       "      <td>人超级超级多，所以服务完全是马马虎虎，六点左右去都已经没有里面的位置了，只是外面的，位置很打...</td>\n",
       "      <td>11.875</td>\n",
       "      <td>1</td>\n",
       "    </tr>\n",
       "    <tr>\n",
       "      <td>2</td>\n",
       "      <td>28786</td>\n",
       "      <td>28786</td>\n",
       "      <td>2</td>\n",
       "      <td>江南道自助烤肉海鲜涮锅（柳浪湾店）</td>\n",
       "      <td>qsl522523970</td>\n",
       "      <td>就是距离太远了，平时也不好聚，真的强烈推荐性价比超级高，就是晚了就要等很久排队，毕竟生意好，...</td>\n",
       "      <td>5.000</td>\n",
       "      <td>1</td>\n",
       "    </tr>\n",
       "    <tr>\n",
       "      <td>3</td>\n",
       "      <td>28787</td>\n",
       "      <td>28787</td>\n",
       "      <td>3</td>\n",
       "      <td>江南道自助烤肉海鲜涮锅（柳浪湾店）</td>\n",
       "      <td>qsl522523970</td>\n",
       "      <td>很不错，指着自己喜欢的来吃，非常不错，肥瘦相间配生菜，还有花甲，生蚝扇贝都是最喜欢的，然后还...</td>\n",
       "      <td>9.000</td>\n",
       "      <td>1</td>\n",
       "    </tr>\n",
       "    <tr>\n",
       "      <td>4</td>\n",
       "      <td>28788</td>\n",
       "      <td>28788</td>\n",
       "      <td>4</td>\n",
       "      <td>江南道自助烤肉海鲜涮锅（柳浪湾店）</td>\n",
       "      <td>qsl522523970</td>\n",
       "      <td>每次都会来吃，跟室友跟男朋友， 【口味】口味都很nice 【环境】环境也非常不错，特别热闹 ...</td>\n",
       "      <td>5.000</td>\n",
       "      <td>1</td>\n",
       "    </tr>\n",
       "    <tr>\n",
       "      <td>...</td>\n",
       "      <td>...</td>\n",
       "      <td>...</td>\n",
       "      <td>...</td>\n",
       "      <td>...</td>\n",
       "      <td>...</td>\n",
       "      <td>...</td>\n",
       "      <td>...</td>\n",
       "      <td>...</td>\n",
       "    </tr>\n",
       "    <tr>\n",
       "      <td>5533</td>\n",
       "      <td>35432</td>\n",
       "      <td>35432</td>\n",
       "      <td>2775</td>\n",
       "      <td>江南道自助烤肉海鲜涮锅（柳浪湾店）</td>\n",
       "      <td>xiao78044434</td>\n",
       "      <td>味道一般！菜品蛮多！环境比较窄⋯⋯感觉挤挤的</td>\n",
       "      <td>0.000</td>\n",
       "      <td>1</td>\n",
       "    </tr>\n",
       "    <tr>\n",
       "      <td>5534</td>\n",
       "      <td>35433</td>\n",
       "      <td>35433</td>\n",
       "      <td>2776</td>\n",
       "      <td>江南道自助烤肉海鲜涮锅（柳浪湾店）</td>\n",
       "      <td>rNR362160129</td>\n",
       "      <td>开心，棒棒哒，培根和鸡肉很棒，吃烧烤就是要吃鸡肉，烤得很快还好吃</td>\n",
       "      <td>4.500</td>\n",
       "      <td>1</td>\n",
       "    </tr>\n",
       "    <tr>\n",
       "      <td>5535</td>\n",
       "      <td>35434</td>\n",
       "      <td>35434</td>\n",
       "      <td>2777</td>\n",
       "      <td>江南道自助烤肉海鲜涮锅（柳浪湾店）</td>\n",
       "      <td>白莲终结者</td>\n",
       "      <td>还行，价格公道，小吃不错，冰激凌也棒棒哒</td>\n",
       "      <td>1.500</td>\n",
       "      <td>1</td>\n",
       "    </tr>\n",
       "    <tr>\n",
       "      <td>5536</td>\n",
       "      <td>35435</td>\n",
       "      <td>35435</td>\n",
       "      <td>2778</td>\n",
       "      <td>江南道自助烤肉海鲜涮锅（柳浪湾店）</td>\n",
       "      <td>rsO675186865</td>\n",
       "      <td>美团便宜几块钱，好！ 江南道就是不美团也挺划算的，味道也好吃。</td>\n",
       "      <td>8.400</td>\n",
       "      <td>1</td>\n",
       "    </tr>\n",
       "    <tr>\n",
       "      <td>5537</td>\n",
       "      <td>35436</td>\n",
       "      <td>35436</td>\n",
       "      <td>2779</td>\n",
       "      <td>江南道自助烤肉海鲜涮锅（柳浪湾店）</td>\n",
       "      <td>匿名用户</td>\n",
       "      <td>在财大东门 位置很好找 菜也比较多</td>\n",
       "      <td>0.000</td>\n",
       "      <td>1</td>\n",
       "    </tr>\n",
       "  </tbody>\n",
       "</table>\n",
       "<p>5538 rows × 8 columns</p>\n",
       "</div>"
      ],
      "text/plain": [
       "      Unnamed: 0  Unnamed: 0.1  Unnamed: 0.1.1               店铺名称  \\\n",
       "0          28784         28784               0  江南道自助烤肉海鲜涮锅（柳浪湾店）   \n",
       "1          28785         28785               1  江南道自助烤肉海鲜涮锅（柳浪湾店）   \n",
       "2          28786         28786               2  江南道自助烤肉海鲜涮锅（柳浪湾店）   \n",
       "3          28787         28787               3  江南道自助烤肉海鲜涮锅（柳浪湾店）   \n",
       "4          28788         28788               4  江南道自助烤肉海鲜涮锅（柳浪湾店）   \n",
       "...          ...           ...             ...                ...   \n",
       "5533       35432         35432            2775  江南道自助烤肉海鲜涮锅（柳浪湾店）   \n",
       "5534       35433         35433            2776  江南道自助烤肉海鲜涮锅（柳浪湾店）   \n",
       "5535       35434         35434            2777  江南道自助烤肉海鲜涮锅（柳浪湾店）   \n",
       "5536       35435         35435            2778  江南道自助烤肉海鲜涮锅（柳浪湾店）   \n",
       "5537       35436         35436            2779  江南道自助烤肉海鲜涮锅（柳浪湾店）   \n",
       "\n",
       "               用户名                                                 评论  scores  \\\n",
       "0     vZs846144283  在西财那边和新尚天地这里的都吃过，味道真的一绝，特别是里面各种肉类，超级美味，寝室团建我们可...  14.800   \n",
       "1     HeS153085382  人超级超级多，所以服务完全是马马虎虎，六点左右去都已经没有里面的位置了，只是外面的，位置很打...  11.875   \n",
       "2     qsl522523970  就是距离太远了，平时也不好聚，真的强烈推荐性价比超级高，就是晚了就要等很久排队，毕竟生意好，...   5.000   \n",
       "3     qsl522523970  很不错，指着自己喜欢的来吃，非常不错，肥瘦相间配生菜，还有花甲，生蚝扇贝都是最喜欢的，然后还...   9.000   \n",
       "4     qsl522523970  每次都会来吃，跟室友跟男朋友， 【口味】口味都很nice 【环境】环境也非常不错，特别热闹 ...   5.000   \n",
       "...            ...                                                ...     ...   \n",
       "5533  xiao78044434                             味道一般！菜品蛮多！环境比较窄⋯⋯感觉挤挤的   0.000   \n",
       "5534  rNR362160129                   开心，棒棒哒，培根和鸡肉很棒，吃烧烤就是要吃鸡肉，烤得很快还好吃   4.500   \n",
       "5535         白莲终结者                               还行，价格公道，小吃不错，冰激凌也棒棒哒   1.500   \n",
       "5536  rsO675186865                    美团便宜几块钱，好！ 江南道就是不美团也挺划算的，味道也好吃。   8.400   \n",
       "5537          匿名用户                                  在财大东门 位置很好找 菜也比较多   0.000   \n",
       "\n",
       "      res  \n",
       "0       1  \n",
       "1       1  \n",
       "2       1  \n",
       "3       1  \n",
       "4       1  \n",
       "...   ...  \n",
       "5533    1  \n",
       "5534    1  \n",
       "5535    1  \n",
       "5536    1  \n",
       "5537    1  \n",
       "\n",
       "[5538 rows x 8 columns]"
      ]
     },
     "execution_count": 2,
     "metadata": {},
     "output_type": "execute_result"
    }
   ],
   "source": [
    "data = pd.read_csv(\"jnd_sent.csv\")\n",
    "data"
   ]
  },
  {
   "cell_type": "code",
   "execution_count": null,
   "metadata": {},
   "outputs": [],
   "source": []
  },
  {
   "cell_type": "code",
   "execution_count": 8,
   "metadata": {
    "ExecuteTime": {
     "end_time": "2021-06-28T11:24:03.323721Z",
     "start_time": "2021-06-28T11:24:03.306811Z"
    }
   },
   "outputs": [],
   "source": [
    "jiangnandao = data[data['res']==-1]\n",
    "jiangnandao.index = range(len(jiangnandao))"
   ]
  },
  {
   "cell_type": "code",
   "execution_count": 9,
   "metadata": {
    "ExecuteTime": {
     "end_time": "2021-06-28T11:24:04.761935Z",
     "start_time": "2021-06-28T11:24:04.692052Z"
    }
   },
   "outputs": [
    {
     "name": "stderr",
     "output_type": "stream",
     "text": [
      "C:\\Users\\12968\\Anaconda3\\lib\\site-packages\\ipykernel_launcher.py:3: SettingWithCopyWarning: \n",
      "A value is trying to be set on a copy of a slice from a DataFrame.\n",
      "Try using .loc[row_indexer,col_indexer] = value instead\n",
      "\n",
      "See the caveats in the documentation: http://pandas.pydata.org/pandas-docs/stable/user_guide/indexing.html#returning-a-view-versus-a-copy\n",
      "  This is separate from the ipykernel package so we can avoid doing imports until\n",
      "  0%|                                                                                                       | 0/774 [00:00<?, ?it/s]C:\\Users\\12968\\Anaconda3\\lib\\site-packages\\ipykernel_launcher.py:13: SettingWithCopyWarning: \n",
      "A value is trying to be set on a copy of a slice from a DataFrame\n",
      "\n",
      "See the caveats in the documentation: http://pandas.pydata.org/pandas-docs/stable/user_guide/indexing.html#returning-a-view-versus-a-copy\n",
      "  del sys.path[0]\n",
      "100%|██████████████████████████████████████████████████████████████████████████████████████████| 774/774 [00:00<00:00, 19128.38it/s]\n"
     ]
    }
   ],
   "source": [
    "p1 = '#[^#」]+#'\n",
    "p2 = '「#[^「」]+」'\n",
    "jiangnandao['推荐'] = ''\n",
    "for i in trange(len(jiangnandao)):\n",
    "    if \"#\" in jiangnandao['评论'][i]:\n",
    "        lst1 = re.findall(p1,jiangnandao['评论'][i])\n",
    "        lst2 = re.findall(p2,jiangnandao['评论'][i])\n",
    "        lst = lst1 + lst2\n",
    "        tj = []\n",
    "        for c in lst:\n",
    "            c = c.replace(\"「#\",'').replace('」','').replace('#','')\n",
    "            tj.append(c)\n",
    "        jiangnandao['推荐'][i] = tj"
   ]
  },
  {
   "cell_type": "code",
   "execution_count": 10,
   "metadata": {
    "ExecuteTime": {
     "end_time": "2021-06-28T11:24:06.242862Z",
     "start_time": "2021-06-28T11:24:06.114168Z"
    }
   },
   "outputs": [
    {
     "name": "stderr",
     "output_type": "stream",
     "text": [
      "\r",
      "  0%|                                                                                                       | 0/774 [00:00<?, ?it/s]"
     ]
    },
    {
     "name": "stdout",
     "output_type": "stream",
     "text": [
      "['套餐：江南道单人自助', '五花肉', '烤肉', '水果蔬菜', '肥牛', '扇贝', '生蚝', '味碟', '西瓜', '郡肝', '自助套餐', '水果自助', '洋葱包蛋']\n",
      "['套餐：江南道单人自助', '五花肉', '扇贝', '水果蔬菜', '西瓜']\n",
      "['套餐：江南道单人自助']\n",
      "['五花肉', '肥牛', '扇贝', '泡芙', '生蚝', '虾子']\n",
      "['麻辣牛肉', '泡芙', '紫薯']\n",
      "['冰激凌', '烤肉', '蛋黄包', '鹌鹑蛋', '鳕鱼']\n",
      "['西瓜', '五花肉', '培根', '水果蔬菜', '果汁', '拌菜', '泡芙']\n",
      "['中翅']\n",
      "['中翅', '五花肉', '鸡腿', '西瓜', '烤鸡蛋，鸡翅', '鸡翅', '粉丝扇贝，', '蒜泥生蚝', '水果蔬菜', '基围虾', '银耳汤', '烤黄瓜', '拌菜', '花甲']\n",
      "['五花肉', '凉面', '果汁', '拌菜']\n",
      "['鸡翅']\n",
      "['银耳汤', '五花肉', '鸡翅']\n",
      "['煎蛋']\n",
      "['五花肉', '水果蔬菜', '果汁', '火腿', '凉面', '中翅', '鸡翅', '煎蛋', '拌菜', '冰激凌', '烤鸡蛋，鸡翅', '藕片', '银耳汤', '圣女果', '味碟', '蔬菜']\n",
      "['西瓜', '鸡翅', '鸡腿', '煎蛋', '烤鸡蛋，鸡翅', '冰激凌']\n",
      "['五花肉', '西瓜', '鸡翅']\n",
      "['银耳汤', '中翅']\n",
      "['五花肉', '中翅', '鸡翅', '西瓜', '凉面', '水果蔬菜', '煎蛋', '鸡腿', '火腿', '烤鸡蛋，鸡翅', '拌菜', '藕片', '蔬菜', '果汁', '味碟', '银耳汤', '冰激凌']\n",
      "['中翅', '煎蛋', '果汁']\n",
      "['中翅', '西瓜', '藕片', '味碟', '肥牛', '扇贝']\n",
      "['五花肉', '中翅']\n",
      "['烤鸡蛋，鸡翅', '五花肉', '冰激凌']\n",
      "['套餐：江南道单人自助', '五花肉', '烤肉', '水果蔬菜', '肥牛', '扇贝', '生蚝', '味碟', '西瓜', '郡肝', '自助套餐', '水果自助', '洋葱包蛋']\n",
      "['套餐：江南道单人自助', '五花肉', '扇贝', '水果蔬菜', '西瓜']\n",
      "['套餐：江南道单人自助']\n",
      "['五花肉', '肥牛', '扇贝', '泡芙', '生蚝', '虾子']\n",
      "['麻辣牛肉', '泡芙', '紫薯']\n",
      "['冰激凌', '烤肉', '蛋黄包', '鹌鹑蛋', '鳕鱼']\n",
      "['西瓜', '五花肉', '培根', '水果蔬菜', '果汁', '拌菜', '泡芙']\n",
      "['中翅']\n",
      "['中翅', '五花肉', '鸡腿', '西瓜', '烤鸡蛋，鸡翅', '鸡翅', '粉丝扇贝，', '蒜泥生蚝', '水果蔬菜', '基围虾', '银耳汤', '烤黄瓜', '拌菜', '花甲']\n",
      "['五花肉', '凉面', '果汁', '拌菜']\n",
      "['鸡翅']\n",
      "['银耳汤', '五花肉', '鸡翅']\n",
      "['煎蛋']\n",
      "['五花肉', '水果蔬菜', '果汁', '火腿', '凉面', '中翅', '鸡翅', '煎蛋', '拌菜', '冰激凌', '烤鸡蛋，鸡翅', '藕片', '银耳汤', '圣女果', '味碟', '蔬菜']\n",
      "['西瓜', '鸡翅', '鸡腿', '煎蛋', '烤鸡蛋，鸡翅', '冰激凌']\n",
      "['五花肉', '西瓜', '鸡翅']\n",
      "['银耳汤', '中翅']\n",
      "['五花肉', '中翅', '鸡翅', '西瓜', '凉面', '水果蔬菜', '煎蛋', '鸡腿', '火腿', '烤鸡蛋，鸡翅', '拌菜', '藕片', '蔬菜', '果汁', '味碟', '银耳汤', '冰激凌']\n",
      "['中翅', '煎蛋', '果汁']\n",
      "['中翅', '西瓜', '藕片', '味碟', '肥牛', '扇贝']\n"
     ]
    },
    {
     "name": "stderr",
     "output_type": "stream",
     "text": [
      "\r",
      " 90%|█████████████████████████████████████████████████████████████████████████████████▍         | 693/774 [00:00<00:00, 6746.07it/s]"
     ]
    },
    {
     "name": "stdout",
     "output_type": "stream",
     "text": [
      "['五花肉', '中翅']\n",
      "['烤鸡蛋，鸡翅', '五花肉', '冰激凌']\n"
     ]
    },
    {
     "name": "stderr",
     "output_type": "stream",
     "text": [
      "100%|███████████████████████████████████████████████████████████████████████████████████████████| 774/774 [00:00<00:00, 6688.16it/s]\n"
     ]
    }
   ],
   "source": [
    "alllst = []\n",
    "for i in trange(len(jiangnandao)):\n",
    "    if jiangnandao['推荐'][i] != '':\n",
    "        print(jiangnandao['推荐'][i])\n",
    "        alllst = alllst + jiangnandao['推荐'][i]"
   ]
  },
  {
   "cell_type": "code",
   "execution_count": 11,
   "metadata": {
    "ExecuteTime": {
     "end_time": "2021-06-28T11:24:08.491481Z",
     "start_time": "2021-06-28T11:24:08.474524Z"
    }
   },
   "outputs": [
    {
     "name": "stdout",
     "output_type": "stream",
     "text": [
      "{'花甲': 2, '郡肝': 2, '水果自助': 2, '味碟': 8, '麻辣牛肉': 2, '冰激凌': 10, '西瓜': 16, '鳕鱼': 2, '虾子': 2, '鸡腿': 6, '套餐：江南道单人自助': 6, '拌菜': 10, '基围虾': 2, '粉丝扇贝，': 2, '蛋黄包': 2, '藕片': 6, '鹌鹑蛋': 2, '煎蛋': 10, '五花肉': 24, '紫薯': 2, '水果蔬菜': 12, '蒜泥生蚝': 2, '银耳汤': 10, '圣女果': 2, '肥牛': 6, '烤鸡蛋，鸡翅': 10, '火腿': 4, '扇贝': 8, '泡芙': 6, '烤肉': 4, '自助套餐': 2, '果汁': 10, '洋葱包蛋': 2, '生蚝': 4, '蔬菜': 4, '鸡翅': 14, '凉面': 6, '中翅': 16, '培根': 2, '烤黄瓜': 2}\n"
     ]
    }
   ],
   "source": [
    "keyset=set(alllst)\n",
    "keydict={}\n",
    "for item in keyset:\n",
    "    keydict.update({item:alllst.count(item)})\n",
    "print(keydict)"
   ]
  },
  {
   "cell_type": "code",
   "execution_count": 12,
   "metadata": {
    "ExecuteTime": {
     "end_time": "2021-06-28T11:24:09.931935Z",
     "start_time": "2021-06-28T11:24:09.910037Z"
    }
   },
   "outputs": [
    {
     "data": {
      "text/plain": [
       "[('五花肉', 24),\n",
       " ('西瓜', 16),\n",
       " ('中翅', 16),\n",
       " ('鸡翅', 14),\n",
       " ('水果蔬菜', 12),\n",
       " ('冰激凌', 10),\n",
       " ('拌菜', 10),\n",
       " ('煎蛋', 10),\n",
       " ('银耳汤', 10),\n",
       " ('烤鸡蛋，鸡翅', 10),\n",
       " ('果汁', 10),\n",
       " ('味碟', 8),\n",
       " ('扇贝', 8),\n",
       " ('鸡腿', 6),\n",
       " ('套餐：江南道单人自助', 6),\n",
       " ('藕片', 6),\n",
       " ('肥牛', 6),\n",
       " ('泡芙', 6),\n",
       " ('凉面', 6),\n",
       " ('火腿', 4),\n",
       " ('烤肉', 4),\n",
       " ('生蚝', 4),\n",
       " ('蔬菜', 4),\n",
       " ('花甲', 2),\n",
       " ('郡肝', 2),\n",
       " ('水果自助', 2),\n",
       " ('麻辣牛肉', 2),\n",
       " ('鳕鱼', 2),\n",
       " ('虾子', 2),\n",
       " ('基围虾', 2),\n",
       " ('粉丝扇贝，', 2),\n",
       " ('蛋黄包', 2),\n",
       " ('鹌鹑蛋', 2),\n",
       " ('紫薯', 2),\n",
       " ('蒜泥生蚝', 2),\n",
       " ('圣女果', 2),\n",
       " ('自助套餐', 2),\n",
       " ('洋葱包蛋', 2),\n",
       " ('培根', 2),\n",
       " ('烤黄瓜', 2)]"
      ]
     },
     "execution_count": 12,
     "metadata": {},
     "output_type": "execute_result"
    }
   ],
   "source": [
    "d_order=sorted(keydict.items(),key=lambda x:x[1],reverse=True)\n",
    "d_order"
   ]
  },
  {
   "cell_type": "code",
   "execution_count": null,
   "metadata": {},
   "outputs": [],
   "source": []
  }
 ],
 "metadata": {
  "kernelspec": {
   "display_name": "Python 3",
   "language": "python",
   "name": "python3"
  },
  "language_info": {
   "codemirror_mode": {
    "name": "ipython",
    "version": 3
   },
   "file_extension": ".py",
   "mimetype": "text/x-python",
   "name": "python",
   "nbconvert_exporter": "python",
   "pygments_lexer": "ipython3",
   "version": "3.7.4"
  }
 },
 "nbformat": 4,
 "nbformat_minor": 2
}
