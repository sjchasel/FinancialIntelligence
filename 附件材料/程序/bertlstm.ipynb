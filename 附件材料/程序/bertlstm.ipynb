{
 "cells": [
  {
   "cell_type": "code",
   "execution_count": 1,
   "metadata": {},
   "outputs": [],
   "source": [
    "import torch\n",
    "import torch.nn as nn\n",
    "import torch.nn.functional as F\n",
    "from transformers import AutoModel, AutoTokenizer\n",
    "from transformers import BertTokenizer, BertModel\n",
    "from torch.utils.data import DataLoader, TensorDataset\n",
    "from sklearn.metrics import accuracy_score\n",
    "import pandas as pd\n",
    "import numpy as np\n",
    "import matplotlib.pyplot as plt\n",
    "import seaborn as sns\n",
    "from copy import deepcopy as copy\n",
    "import torch.optim as optim\n",
    "import random\n",
    "import re\n",
    "import os\n",
    "import jieba\n",
    "from tqdm import tqdm\n",
    "from tqdm import trange\n",
    "def seed_torch(seed=1122):\n",
    "    random.seed(seed)\n",
    "    os.environ['PYTHONHASHSEED'] = str(seed)  # 为了禁止hash随机化，使得实验可复现\n",
    "    np.random.seed(seed)\n",
    "    torch.manual_seed(seed)\n",
    "    torch.cuda.manual_seed(seed)\n",
    "    torch.cuda.manual_seed_all(seed)  # if you are using multi-GPU.\n",
    "    torch.backends.cudnn.benchmark = False\n",
    "    torch.backends.cudnn.deterministic = True\n",
    "BERT_PATH = 'bert-base-chinese/'"
   ]
  },
  {
   "cell_type": "code",
   "execution_count": 2,
   "metadata": {},
   "outputs": [],
   "source": [
    "class GetBERT(nn.Module):\n",
    "\n",
    "    def __init__(self):\n",
    "        super(GetBERT, self).__init__()\n",
    "        self.bert_tokenizer = BertTokenizer.from_pretrained(\"chinese-bert-wwm-ext\")\n",
    "        self.bert = BertModel.from_pretrained(\"chinese-bert-wwm-ext\")\n",
    "        for param in self.bert.parameters():\n",
    "            param.requires_grad = False\n",
    "\n",
    "    def forward(self, sentence_lists):\n",
    "        \"\"\"\n",
    "        输入句子列表(去掉了停用词的)\n",
    "        \"\"\"\n",
    "        sentence_lists = [' '.join(x) for x in sentence_lists]\n",
    "        # print('sentence_lists:'+str(sentence_lists))\n",
    "        ids = self.bert_tokenizer(sentence_lists, padding=True, return_tensors=\"pt\")\n",
    "        # print('ids:'+str(ids))\n",
    "        inputs = ids['input_ids']\n",
    "        # print('inputs:'+str(inputs))\n",
    "\n",
    "        embeddings = self.bert(inputs)\n",
    "        # print(str(embeddings[0].shape))\n",
    "        x = embeddings[0]  # 1 * 768\n",
    "        # print(x.shape)\n",
    "        return x\n"
   ]
  },
  {
   "cell_type": "code",
   "execution_count": 3,
   "metadata": {},
   "outputs": [],
   "source": [
    "class Pre:\n",
    "    def __init__(self, text):\n",
    "        \"\"\"\n",
    "        输入一个文本\n",
    "        \"\"\"\n",
    "        self.puncs_coarse = ['。', '!', '；', '？', '……', '\\n', ' ']\n",
    "        self.text = text\n",
    "        self.stopwords = self.deal_wrap('dict/stop1205.txt')\n",
    "\n",
    "    def segment(self, sentence):\n",
    "        sentence_seged = jieba.cut(sentence.strip())\n",
    "        outstr = ''\n",
    "        for word in sentence_seged:\n",
    "            if word not in self.stopwords:\n",
    "                if word != '\\t':\n",
    "                    outstr += word\n",
    "                    outstr += \" \"\n",
    "        word_list = outstr.split(' ')\n",
    "        pattern = '[A-Za-z]*[0-9]*[\\'\\\"\\%.\\s\\@\\!\\#\\$\\^\\&\\*\\(\\)\\-\\<\\>\\?\\/\\,\\~\\`\\:\\;]*[：；”“ ‘’+-——！，。？、~@#￥%……&*（）【】]*'\n",
    "        t = [re.sub(pattern, \"\", x.strip()) for x in word_list]\n",
    "        t = [x for x in t if x != '']\n",
    "        return ''.join(t)\n",
    "\n",
    "    def deal_wrap(self, filedict):\n",
    "        temp = []\n",
    "        for x in open(filedict, 'r', encoding='utf-8').readlines():\n",
    "            temp.append(x.strip())\n",
    "        return temp\n",
    "\n",
    "    def split_sentence_coarse(self):\n",
    "        \"\"\"\n",
    "        按照。！？“”等中文完整句子语义来分句\n",
    "        1. 去除换行符、多余的空格、百分号\n",
    "        2. 分句，存入列表\n",
    "        :return:装着每个句子的列表（包括标点符号）\n",
    "        \"\"\"\n",
    "\n",
    "        text = self.text\n",
    "        sentences = []\n",
    "        start = 0\n",
    "        for i in range(len(text)):\n",
    "            if text[i] in self.puncs_coarse:\n",
    "                sentences.append(text[start:i + 1])\n",
    "                start = i + 1\n",
    "        if start == 0:\n",
    "            sentences.append(text)\n",
    "        return sentences\n",
    "\n",
    "    def get_keywords(self, data):\n",
    "        \"\"\"\n",
    "        如果句子太长，就进行关键词提取\n",
    "        \"\"\"\n",
    "        from jieba import analyse\n",
    "        textrank = analyse.textrank\n",
    "        keywords = textrank(data, topK=8)\n",
    "        return ''.join(keywords)\n",
    "\n",
    "    def preprocess(self):\n",
    "        # 分句\n",
    "        sentences = self.split_sentence_coarse()\n",
    "        # 对每个句子，去除里面的停用词，再连起来\n",
    "        # 对每个句子，如果句子太长，长度大于20（我随便定的），就抽取八个关键词连起来\n",
    "        new_sent = []\n",
    "        for i in sentences:\n",
    "            if len(i) < 5:\n",
    "                new_sent.append(i)\n",
    "                continue\n",
    "            i = self.segment(i)\n",
    "            if len(i) > 25:\n",
    "                i = self.get_keywords(i)\n",
    "            if i != '':\n",
    "                new_sent.append(i)\n",
    "        return new_sent"
   ]
  },
  {
   "cell_type": "code",
   "execution_count": 4,
   "metadata": {},
   "outputs": [],
   "source": [
    "class GetData():\n",
    "    def __init__(self, pos=5000, neg=4600):\n",
    "        data = pd.read_csv('sentiment_classify_data/raw_comment_v2.csv')\n",
    "        data = data[data['score'] != 3].reset_index()\n",
    "        data['label'] = data['score'].map(lambda a: 1 if a in [4, 5] else 0)\n",
    "        data.drop(['post_time','score','shop_url'],inplace=True,axis=1)\n",
    "        \n",
    "#         data = pd.read_excel('sentiment_classify_data/comments_raw_v1.xls')\n",
    "#         data = data[data['score'] != 3].reset_index()\n",
    "#         data['label'] = data['score'].map(lambda a: 1 if a in [4, 5] else 0)\n",
    "#         data.drop(['id', 'score'], inplace=True, axis=1)\n",
    "        \n",
    "        data['content'] = [str(i) for i in list(data['content'])]\n",
    "        # 原数据标签为0（负向情感）的数据有3632条，正向情感的有57262条\n",
    "        data1 = data[data['label'] == 1].sample(pos)\n",
    "        data0 = data[data['label'] == 0].sample(neg)\n",
    "        data = pd.concat([data1, data0], axis=0, ignore_index=True)\n",
    "        self.data = data\n",
    "\n",
    "    def split_sen(self):\n",
    "        x = []\n",
    "        y = []\n",
    "        for i in range(len(self.data)):\n",
    "            p = Pre(self.data['content'][i])\n",
    "            sen_lst = p.preprocess()\n",
    "            if sen_lst == []:\n",
    "                continue\n",
    "            x.append(sen_lst)\n",
    "            y.append(self.data['label'][i])\n",
    "        print(len(x))\n",
    "        print(y.count(1))\n",
    "        print(y.count(0))\n",
    "        return x, y\n"
   ]
  },
  {
   "cell_type": "code",
   "execution_count": 5,
   "metadata": {},
   "outputs": [],
   "source": [
    "class LSTM(nn.Module):\n",
    "\n",
    "    def __init__(self):\n",
    "        super(LSTM, self).__init__()\n",
    "        self.lstm_layer = nn.LSTM(input_size=768, hidden_size=128, batch_first=True)\n",
    "        self.linear_layer = nn.Linear(in_features=128, out_features=2, bias=True)\n",
    "\n",
    "    def forward(self, x):\n",
    "        out1, (h_n, h_c) = self.lstm_layer(x)\n",
    "        a, b, c = h_n.shape\n",
    "        out = self.linear_layer(h_n.reshape(a * b, c))\n",
    "        out = F.log_softmax(out, dim=1)\n",
    "        return out"
   ]
  },
  {
   "cell_type": "code",
   "execution_count": 6,
   "metadata": {},
   "outputs": [],
   "source": [
    "def train_model(epoch, train_dataLoader, test_dataLoader):\n",
    "    # 训练模型\n",
    "    best_model = None\n",
    "    train_loss = 0\n",
    "    test_loss = 0\n",
    "    best_loss = 100\n",
    "    epoch_cnt = 0\n",
    "    for _ in range(epoch):\n",
    "        total_train_loss = 0\n",
    "        total_train_num = 0\n",
    "        total_test_loss = 0\n",
    "        total_test_num = 0\n",
    "        for x, y in tqdm(train_dataLoader,\n",
    "                         desc='Epoch: {}| Train Loss: {}| Test Loss: {}'.format(_, train_loss, test_loss)):\n",
    "        #for x, y in train_dataLoader:\n",
    "            x_num = len(x)\n",
    "            p = model(x)\n",
    "            loss = loss_func(p, y.long())\n",
    "            optimizer.zero_grad()\n",
    "            loss.backward(retain_graph=True)\n",
    "            optimizer.step()\n",
    "            total_train_loss += loss.item()\n",
    "            total_train_num += x_num\n",
    "        train_loss = total_train_loss / total_train_num\n",
    "        train_loss_list.append(train_loss)\n",
    "        for x, y in test_dataLoader:\n",
    "            x_num = len(x)\n",
    "            p = model(x)\n",
    "            loss = loss_func(p, y.long())\n",
    "            optimizer.zero_grad()\n",
    "            loss.backward(retain_graph=True)\n",
    "            optimizer.step()\n",
    "            total_test_loss += loss.item()\n",
    "            total_test_num += x_num\n",
    "        test_loss = total_test_loss / total_test_num\n",
    "        test_loss_list.append(test_loss)\n",
    "        \n",
    "        # early stop\n",
    "        if best_loss > test_loss:\n",
    "            best_loss = test_loss\n",
    "            best_model = copy(model)\n",
    "            torch.save(best_model.state_dict(), 'lstm_.pth')\n",
    "            epoch_cnt = 0\n",
    "        else:\n",
    "            epoch_cnt += 1\n",
    "            \n",
    "        if epoch_cnt > early_stop:\n",
    "            torch.save(best_model.state_dict(), 'lstm_.pth')\n",
    "            print(\"保存模型\")\n",
    "            #print(best_model.state_dict())\n",
    "            break"
   ]
  },
  {
   "cell_type": "code",
   "execution_count": 7,
   "metadata": {},
   "outputs": [],
   "source": [
    "def test_model(test_dataLoader_):\n",
    "    pred = []\n",
    "    label = []\n",
    "    model_.load_state_dict(torch.load(\"lstm_.pth\"))\n",
    "    model_.eval()\n",
    "    total_test_loss = 0\n",
    "    total_test_num = 0\n",
    "    for x, y in test_dataLoader_:\n",
    "        x_num = len(x)\n",
    "        p = model_(x)\n",
    "        #         print('##', len(p), len(y))\n",
    "        loss = loss_func(p, y.long())\n",
    "        total_test_loss += loss.item()\n",
    "        total_test_num += x_num\n",
    "        pred.extend(p.data.squeeze(1).tolist())\n",
    "        label.extend(y.tolist())\n",
    "    test_loss = total_test_loss / total_test_num\n",
    "    # print('##', len(pred), len(label))\n",
    "    return pred, label, test_loss, test_loss_list"
   ]
  },
  {
   "cell_type": "code",
   "execution_count": 23,
   "metadata": {},
   "outputs": [
    {
     "name": "stdout",
     "output_type": "stream",
     "text": [
      "9574\n",
      "4988\n",
      "4586\n",
      "训练集有8616个数据\n",
      "测试集有958个数据\n"
     ]
    },
    {
     "name": "stderr",
     "output_type": "stream",
     "text": [
      "Epoch: 0| Train Loss: 0| Test Loss: 0: 100%|██████████| 431/431 [01:33<00:00,  4.59it/s]\n",
      "Epoch: 1| Train Loss: 0.008397677536919208| Test Loss: 0.09006156385069351: 100%|██████████| 431/431 [01:30<00:00,  4.75it/s]\n",
      "Epoch: 2| Train Loss: 0.018091594061434627| Test Loss: 0.07377149405770611: 100%|██████████| 431/431 [01:31<00:00,  4.69it/s]\n",
      "Epoch: 3| Train Loss: 0.020521014404786663| Test Loss: 0.06546261002910411: 100%|██████████| 431/431 [01:34<00:00,  4.55it/s]\n",
      "Epoch: 4| Train Loss: 0.020582437517853002| Test Loss: 0.06717363057467535: 100%|██████████| 431/431 [01:31<00:00,  4.70it/s]\n",
      "Epoch: 5| Train Loss: 0.021161091505716743| Test Loss: 0.06410236625556906: 100%|██████████| 431/431 [01:32<00:00,  4.67it/s]\n",
      "Epoch: 6| Train Loss: 0.02217739091679357| Test Loss: 0.06274305691549822: 100%|██████████| 431/431 [01:32<00:00,  4.65it/s]\n",
      "Epoch: 7| Train Loss: 0.02250584140558318| Test Loss: 0.062374300212601284: 100%|██████████| 431/431 [01:26<00:00,  4.97it/s]\n",
      "Epoch: 8| Train Loss: 0.022654985062978614| Test Loss: 0.06207982092971344: 100%|██████████| 431/431 [01:18<00:00,  5.48it/s]\n",
      "Epoch: 9| Train Loss: 0.022746062227900977| Test Loss: 0.061936836604161154: 100%|██████████| 431/431 [01:24<00:00,  5.10it/s]\n"
     ]
    },
    {
     "name": "stdout",
     "output_type": "stream",
     "text": [
      "0.5271398747390397\n"
     ]
    }
   ],
   "source": [
    "seed_torch(22)\n",
    "epoch = 10\n",
    "batch_size = 20\n",
    "early_stop = 5\n",
    "test_loss_list = []\n",
    "train_loss_list = []\n",
    "\n",
    "# 初始化模型\n",
    "model = LSTM()\n",
    "model_ = LSTM()\n",
    "\n",
    "# 数据处理部分\n",
    "gd = GetData()\n",
    "x, y = gd.split_sen()\n",
    "pos = y.count(1)\n",
    "neg = y.count(0)\n",
    "pos_train = int(pos*0.9)\n",
    "neg_train = int(neg*0.9)\n",
    "x1 = x[:pos]  # 3988   --- 3589train 399test\n",
    "y1 = y[:pos]\n",
    "x0 = x[pos:]  # 3589   ---- 3230train 359test\n",
    "y0 = y[pos:]\n",
    "\n",
    "train_x = x0[:neg_train] + x1[:pos_train]\n",
    "train_y = y0[:neg_train] + y1[:pos_train]\n",
    "print(\"训练集有\"+str(len(train_x))+\"个数据\")\n",
    "\n",
    "# c = list(zip(train_x, train_y))\n",
    "# random.shuffle(c)\n",
    "# c = random.sample(c, 50)\n",
    "# train_x[:], train_y[:] = zip(*c)\n",
    "\n",
    "test_x = x0[neg_train:] + x1[pos_train:]\n",
    "test_y = y0[neg_train:] + y1[pos_train:]\n",
    "print(\"测试集有\"+str(len(test_x))+\"个数据\")\n",
    "\n",
    "bert = GetBERT()\n",
    "x_train = bert(train_x)\n",
    "x_test = bert(test_x)\n",
    "y_train = torch.tensor(train_y).float()\n",
    "y_test = torch.tensor(test_y).float()\n",
    "train_data = TensorDataset(x_train, y_train)\n",
    "train_dataLoader = DataLoader(train_data, batch_size=batch_size)\n",
    "test_data = TensorDataset(x_test, y_test)\n",
    "test_dataLoader = DataLoader(test_data, batch_size=batch_size)\n",
    "\n",
    "# 损失函数和优化器\n",
    "loss_func = nn.CrossEntropyLoss()\n",
    "optimizer = optim.Adam(model.parameters(), lr=0.001)\n",
    "train_model(epoch, train_dataLoader, test_dataLoader)\n",
    "p, y, test_loss, test_loss_list = test_model(test_dataLoader)\n",
    "ans = []\n",
    "for t in p:\n",
    "    if t[0]>t[1]:\n",
    "        ans.append(0)\n",
    "    else:\n",
    "        ans.append(1)\n",
    "print(accuracy_score(ans,y))"
   ]
  },
  {
   "cell_type": "code",
   "execution_count": 11,
   "metadata": {},
   "outputs": [
    {
     "name": "stdout",
     "output_type": "stream",
     "text": [
      "0\n",
      "False\n",
      "10.1\n"
     ]
    }
   ],
   "source": [
    "print(torch.cuda.device_count())   # --> 0\n",
    "print(torch.cuda.is_available())   # --> False\n",
    "print(torch.version.cuda)          # --> 9.0.176"
   ]
  },
  {
   "cell_type": "code",
   "execution_count": 28,
   "metadata": {},
   "outputs": [
    {
     "data": {
      "text/plain": [
       "<matplotlib.legend.Legend at 0x7fef4375e070>"
      ]
     },
     "execution_count": 28,
     "metadata": {},
     "output_type": "execute_result"
    },
    {
     "data": {
      "image/png": "[encoded data removed]",
      "text/plain": [
       "<Figure size 432x288 with 1 Axes>"
      ]
     },
     "metadata": {
      "needs_background": "light"
     },
     "output_type": "display_data"
    }
   ],
   "source": [
    "plt.xlabel('Epoch', fontsize=18)\n",
    "plt.ylabel('Loss', fontsize=18)\n",
    "plt.plot(test_loss_list)\n",
    "plt.plot(train_loss_list)\n",
    "plt.legend([\"test\",\"train\"])"
   ]
  },
  {
   "cell_type": "code",
   "execution_count": 8,
   "metadata": {},
   "outputs": [],
   "source": [
    "class LSTM2(nn.Module):\n",
    "\n",
    "    def __init__(self):\n",
    "        super(LSTM2, self).__init__()\n",
    "        self.lstm_layer = nn.LSTM(input_size=768, hidden_size=512, batch_first=True)\n",
    "        self.linear_layer = nn.Linear(in_features=512, out_features=256, bias=True)\n",
    "        self.linear_layer2 = nn.Linear(in_features=256, out_features=2, bias=True)\n",
    "\n",
    "    def forward(self, x):\n",
    "        out1, (h_n, h_c) = self.lstm_layer(x)\n",
    "        a, b, c = h_n.shape\n",
    "        out = self.linear_layer(h_n.reshape(a * b, c))\n",
    "        out = self.linear_layer2(out)\n",
    "        out = F.log_softmax(out, dim=1)\n",
    "        return out"
   ]
  },
  {
   "cell_type": "code",
   "execution_count": 9,
   "metadata": {},
   "outputs": [
    {
     "name": "stderr",
     "output_type": "stream",
     "text": [
      "Building prefix dict from the default dictionary ...\n",
      "Dumping model to file cache /tmp/jieba.cache\n",
      "Loading model cost 0.674 seconds.\n",
      "Prefix dict has been built successfully.\n"
     ]
    },
    {
     "name": "stdout",
     "output_type": "stream",
     "text": [
      "9574\n",
      "4988\n",
      "4586\n",
      "训练集有8616个数据\n",
      "测试集有958个数据\n"
     ]
    },
    {
     "name": "stderr",
     "output_type": "stream",
     "text": [
      "Epoch: 0| Train Loss: 0| Test Loss: 0:   0%|          | 0/431 [00:00<?, ?it/s]/app/common/miniconda3/lib/python3.8/site-packages/torch/autograd/__init__.py:130: UserWarning: CUDA initialization: Found no NVIDIA driver on your system. Please check that you have an NVIDIA GPU and installed a driver from http://www.nvidia.com/Download/index.aspx (Triggered internally at  /pytorch/c10/cuda/CUDAFunctions.cpp:100.)\n",
      "  Variable._execution_engine.run_backward(\n",
      "Epoch: 0| Train Loss: 0| Test Loss: 0: 100%|██████████| 431/431 [02:38<00:00,  2.72it/s]\n",
      "Epoch: 1| Train Loss: 0.007235404177817001| Test Loss: 0.16754387196684686: 100%|██████████| 431/431 [04:02<00:00,  1.78it/s]\n",
      "Epoch: 2| Train Loss: 0.02632076990841716| Test Loss: 0.15709324616277007: 100%|██████████| 431/431 [03:36<00:00,  1.99it/s]\n",
      "Epoch: 3| Train Loss: 0.012746736046362363| Test Loss: 0.1280096331413239: 100%|██████████| 431/431 [03:16<00:00,  2.19it/s]\n",
      "Epoch: 4| Train Loss: 0.012353127845964153| Test Loss: 0.11382797186532782: 100%|██████████| 431/431 [02:53<00:00,  2.49it/s]\n",
      "Epoch: 5| Train Loss: 0.01104646265366991| Test Loss: 0.116217832802699: 100%|██████████| 431/431 [04:28<00:00,  1.60it/s]\n",
      "Epoch: 6| Train Loss: 0.009990759771012409| Test Loss: 0.1203454742184534: 100%|██████████| 431/431 [15:27<00:00,  2.15s/it]  \n",
      "Epoch: 7| Train Loss: 0.012356945397883812| Test Loss: 0.11099641003124863: 100%|██████████| 431/431 [03:29<00:00,  2.06it/s]\n",
      "Epoch: 8| Train Loss: 0.013015015222018827| Test Loss: 0.10204294075205826: 100%|██████████| 431/431 [03:29<00:00,  2.06it/s]\n",
      "Epoch: 9| Train Loss: 0.011924098238758583| Test Loss: 0.10214972146568395: 100%|██████████| 431/431 [03:39<00:00,  1.96it/s]\n"
     ]
    },
    {
     "name": "stdout",
     "output_type": "stream",
     "text": [
      "0.5208768267223383\n"
     ]
    }
   ],
   "source": [
    "seed_torch(22)\n",
    "epoch = 10\n",
    "batch_size = 20\n",
    "early_stop = 5\n",
    "test_loss_list = []\n",
    "train_loss_list = []\n",
    "\n",
    "# 初始化模型\n",
    "model = LSTM2()\n",
    "model_ = LSTM2()\n",
    "\n",
    "# 数据处理部分\n",
    "gd = GetData()\n",
    "x, y = gd.split_sen()\n",
    "pos = y.count(1)\n",
    "neg = y.count(0)\n",
    "pos_train = int(pos*0.9)\n",
    "neg_train = int(neg*0.9)\n",
    "x1 = x[:pos]  # 3988   --- 3589train 399test\n",
    "y1 = y[:pos]\n",
    "x0 = x[pos:]  # 3589   ---- 3230train 359test\n",
    "y0 = y[pos:]\n",
    "\n",
    "train_x = x0[:neg_train] + x1[:pos_train]\n",
    "train_y = y0[:neg_train] + y1[:pos_train]\n",
    "print(\"训练集有\"+str(len(train_x))+\"个数据\")\n",
    "\n",
    "# c = list(zip(train_x, train_y))\n",
    "# random.shuffle(c)\n",
    "# c = random.sample(c, 50)\n",
    "# train_x[:], train_y[:] = zip(*c)\n",
    "\n",
    "test_x = x0[neg_train:] + x1[pos_train:]\n",
    "test_y = y0[neg_train:] + y1[pos_train:]\n",
    "print(\"测试集有\"+str(len(test_x))+\"个数据\")\n",
    "\n",
    "bert = GetBERT()\n",
    "x_train = bert(train_x)\n",
    "x_test = bert(test_x)\n",
    "y_train = torch.tensor(train_y).float()\n",
    "y_test = torch.tensor(test_y).float()\n",
    "train_data = TensorDataset(x_train, y_train)\n",
    "train_dataLoader = DataLoader(train_data, batch_size=batch_size)\n",
    "test_data = TensorDataset(x_test, y_test)\n",
    "test_dataLoader = DataLoader(test_data, batch_size=batch_size)\n",
    "\n",
    "# 损失函数和优化器\n",
    "loss_func = nn.CrossEntropyLoss()\n",
    "optimizer = optim.Adam(model.parameters(), lr=0.001)\n",
    "train_model(epoch, train_dataLoader, test_dataLoader)\n",
    "p, y, test_loss, test_loss_list = test_model(test_dataLoader)\n",
    "ans = []\n",
    "for t in p:\n",
    "    if t[0]>t[1]:\n",
    "        ans.append(0)\n",
    "    else:\n",
    "        ans.append(1)\n",
    "print(accuracy_score(ans,y))"
   ]
  },
  {
   "cell_type": "code",
   "execution_count": 10,
   "metadata": {},
   "outputs": [
    {
     "data": {
      "text/plain": [
       "<matplotlib.legend.Legend at 0x7f3b3c64f3a0>"
      ]
     },
     "execution_count": 10,
     "metadata": {},
     "output_type": "execute_result"
    },
    {
     "data": {
      "image/png": "[encoded data removed]",
      "text/plain": [
       "<Figure size 432x288 with 1 Axes>"
      ]
     },
     "metadata": {
      "needs_background": "light"
     },
     "output_type": "display_data"
    }
   ],
   "source": [
    "plt.xlabel('Epoch', fontsize=18)\n",
    "plt.ylabel('Loss', fontsize=18)\n",
    "plt.plot(test_loss_list)\n",
    "plt.plot(train_loss_list)\n",
    "plt.legend([\"test\",\"train\"])"
   ]
  },
  {
   "cell_type": "markdown",
   "metadata": {},
   "source": [
    "# 双向GRU"
   ]
  },
  {
   "cell_type": "code",
   "execution_count": 11,
   "metadata": {},
   "outputs": [],
   "source": [
    "class BiGRU(torch.nn.Module):\n",
    "    def __init__(self, input_dim=768,hidden_size=768, out_size=2, n_layers=1, batch_size=1):\n",
    "        super(BiGRU, self).__init__()\n",
    "\n",
    "        self.batch_size = batch_size\n",
    "        self.hidden_size = hidden_size\n",
    "        self.n_layers = n_layers\n",
    "        self.out_size = out_size\n",
    "        self.gru = torch.nn.GRU(input_dim, hidden_size, n_layers, batch_first=True,bidirectional=True)\n",
    "        self.fc1 = torch.nn.Linear(hidden_size*2, 300)\n",
    "        self.fc2 = torch.nn.Linear(300, out_size)\n",
    "        \n",
    "    def forward(self, word_inputs, hidden):\n",
    "       # hidden 就是上下文输出，output 就是 RNN 输出\n",
    "        output, hidden = self.gru(word_inputs, hidden)\n",
    "        # output是所有隐藏层的状态，hidden是最后一层隐藏层的状态\n",
    "        output = self.fc1(output)\n",
    "        output = self.fc2(output)\n",
    "\n",
    "        # 仅仅获取 time seq 维度中的最后一个向量\n",
    "        # the last of time_seq\n",
    "        output = output[:,-1,:]\n",
    "        out = F.log_softmax(out, dim=1)\n",
    "\n",
    "        return out\n",
    "\n",
    "    def init_hidden(self):\n",
    "        hidden = torch.autograd.Variable(torch.zeros(2*self.n_layers, self.batch_size, self.hidden_size, device='cuda'))\n",
    "        return hidden"
   ]
  },
  {
   "cell_type": "code",
   "execution_count": 13,
   "metadata": {},
   "outputs": [
    {
     "name": "stdout",
     "output_type": "stream",
     "text": [
      "20\n",
      "10\n",
      "10\n",
      "训练集有18个数据\n",
      "测试集有2个数据\n"
     ]
    },
    {
     "name": "stderr",
     "output_type": "stream",
     "text": [
      "Epoch: 0| Train Loss: 0| Test Loss: 0:   0%|          | 0/1 [00:00<?, ?it/s]\n"
     ]
    },
    {
     "ename": "TypeError",
     "evalue": "forward() missing 1 required positional argument: 'hidden'",
     "output_type": "error",
     "traceback": [
      "\u001b[0;31m---------------------------------------------------------------------------\u001b[0m",
      "\u001b[0;31mTypeError\u001b[0m                                 Traceback (most recent call last)",
      "\u001b[0;32m<ipython-input-13-a7cae41a9631>\u001b[0m in \u001b[0;36m<module>\u001b[0;34m\u001b[0m\n\u001b[1;32m     48\u001b[0m \u001b[0mloss_func\u001b[0m \u001b[0;34m=\u001b[0m \u001b[0mnn\u001b[0m\u001b[0;34m.\u001b[0m\u001b[0mCrossEntropyLoss\u001b[0m\u001b[0;34m(\u001b[0m\u001b[0;34m)\u001b[0m\u001b[0;34m\u001b[0m\u001b[0;34m\u001b[0m\u001b[0m\n\u001b[1;32m     49\u001b[0m \u001b[0moptimizer\u001b[0m \u001b[0;34m=\u001b[0m \u001b[0moptim\u001b[0m\u001b[0;34m.\u001b[0m\u001b[0mAdam\u001b[0m\u001b[0;34m(\u001b[0m\u001b[0mmodel\u001b[0m\u001b[0;34m.\u001b[0m\u001b[0mparameters\u001b[0m\u001b[0;34m(\u001b[0m\u001b[0;34m)\u001b[0m\u001b[0;34m,\u001b[0m \u001b[0mlr\u001b[0m\u001b[0;34m=\u001b[0m\u001b[0;36m0.001\u001b[0m\u001b[0;34m)\u001b[0m\u001b[0;34m\u001b[0m\u001b[0;34m\u001b[0m\u001b[0m\n\u001b[0;32m---> 50\u001b[0;31m \u001b[0mtrain_model\u001b[0m\u001b[0;34m(\u001b[0m\u001b[0mepoch\u001b[0m\u001b[0;34m,\u001b[0m \u001b[0mtrain_dataLoader\u001b[0m\u001b[0;34m,\u001b[0m \u001b[0mtest_dataLoader\u001b[0m\u001b[0;34m)\u001b[0m\u001b[0;34m\u001b[0m\u001b[0;34m\u001b[0m\u001b[0m\n\u001b[0m\u001b[1;32m     51\u001b[0m \u001b[0mp\u001b[0m\u001b[0;34m,\u001b[0m \u001b[0my\u001b[0m\u001b[0;34m,\u001b[0m \u001b[0mtest_loss\u001b[0m\u001b[0;34m,\u001b[0m \u001b[0mtest_loss_list\u001b[0m \u001b[0;34m=\u001b[0m \u001b[0mtest_model\u001b[0m\u001b[0;34m(\u001b[0m\u001b[0mtest_dataLoader\u001b[0m\u001b[0;34m)\u001b[0m\u001b[0;34m\u001b[0m\u001b[0;34m\u001b[0m\u001b[0m\n\u001b[1;32m     52\u001b[0m \u001b[0mans\u001b[0m \u001b[0;34m=\u001b[0m \u001b[0;34m[\u001b[0m\u001b[0;34m]\u001b[0m\u001b[0;34m\u001b[0m\u001b[0;34m\u001b[0m\u001b[0m\n",
      "\u001b[0;32m<ipython-input-6-893055b7fcdd>\u001b[0m in \u001b[0;36mtrain_model\u001b[0;34m(epoch, train_dataLoader, test_dataLoader)\u001b[0m\n\u001b[1;32m     15\u001b[0m         \u001b[0;31m#for x, y in train_dataLoader:\u001b[0m\u001b[0;34m\u001b[0m\u001b[0;34m\u001b[0m\u001b[0;34m\u001b[0m\u001b[0m\n\u001b[1;32m     16\u001b[0m             \u001b[0mx_num\u001b[0m \u001b[0;34m=\u001b[0m \u001b[0mlen\u001b[0m\u001b[0;34m(\u001b[0m\u001b[0mx\u001b[0m\u001b[0;34m)\u001b[0m\u001b[0;34m\u001b[0m\u001b[0;34m\u001b[0m\u001b[0m\n\u001b[0;32m---> 17\u001b[0;31m             \u001b[0mp\u001b[0m \u001b[0;34m=\u001b[0m \u001b[0mmodel\u001b[0m\u001b[0;34m(\u001b[0m\u001b[0mx\u001b[0m\u001b[0;34m)\u001b[0m\u001b[0;34m\u001b[0m\u001b[0;34m\u001b[0m\u001b[0m\n\u001b[0m\u001b[1;32m     18\u001b[0m             \u001b[0mloss\u001b[0m \u001b[0;34m=\u001b[0m \u001b[0mloss_func\u001b[0m\u001b[0;34m(\u001b[0m\u001b[0mp\u001b[0m\u001b[0;34m,\u001b[0m \u001b[0my\u001b[0m\u001b[0;34m.\u001b[0m\u001b[0mlong\u001b[0m\u001b[0;34m(\u001b[0m\u001b[0;34m)\u001b[0m\u001b[0;34m)\u001b[0m\u001b[0;34m\u001b[0m\u001b[0;34m\u001b[0m\u001b[0m\n\u001b[1;32m     19\u001b[0m             \u001b[0moptimizer\u001b[0m\u001b[0;34m.\u001b[0m\u001b[0mzero_grad\u001b[0m\u001b[0;34m(\u001b[0m\u001b[0;34m)\u001b[0m\u001b[0;34m\u001b[0m\u001b[0;34m\u001b[0m\u001b[0m\n",
      "\u001b[0;32m/app/common/miniconda3/lib/python3.8/site-packages/torch/nn/modules/module.py\u001b[0m in \u001b[0;36m_call_impl\u001b[0;34m(self, *input, **kwargs)\u001b[0m\n\u001b[1;32m    725\u001b[0m             \u001b[0mresult\u001b[0m \u001b[0;34m=\u001b[0m \u001b[0mself\u001b[0m\u001b[0;34m.\u001b[0m\u001b[0m_slow_forward\u001b[0m\u001b[0;34m(\u001b[0m\u001b[0;34m*\u001b[0m\u001b[0minput\u001b[0m\u001b[0;34m,\u001b[0m \u001b[0;34m**\u001b[0m\u001b[0mkwargs\u001b[0m\u001b[0;34m)\u001b[0m\u001b[0;34m\u001b[0m\u001b[0;34m\u001b[0m\u001b[0m\n\u001b[1;32m    726\u001b[0m         \u001b[0;32melse\u001b[0m\u001b[0;34m:\u001b[0m\u001b[0;34m\u001b[0m\u001b[0;34m\u001b[0m\u001b[0m\n\u001b[0;32m--> 727\u001b[0;31m             \u001b[0mresult\u001b[0m \u001b[0;34m=\u001b[0m \u001b[0mself\u001b[0m\u001b[0;34m.\u001b[0m\u001b[0mforward\u001b[0m\u001b[0;34m(\u001b[0m\u001b[0;34m*\u001b[0m\u001b[0minput\u001b[0m\u001b[0;34m,\u001b[0m \u001b[0;34m**\u001b[0m\u001b[0mkwargs\u001b[0m\u001b[0;34m)\u001b[0m\u001b[0;34m\u001b[0m\u001b[0;34m\u001b[0m\u001b[0m\n\u001b[0m\u001b[1;32m    728\u001b[0m         for hook in itertools.chain(\n\u001b[1;32m    729\u001b[0m                 \u001b[0m_global_forward_hooks\u001b[0m\u001b[0;34m.\u001b[0m\u001b[0mvalues\u001b[0m\u001b[0;34m(\u001b[0m\u001b[0;34m)\u001b[0m\u001b[0;34m,\u001b[0m\u001b[0;34m\u001b[0m\u001b[0;34m\u001b[0m\u001b[0m\n",
      "\u001b[0;31mTypeError\u001b[0m: forward() missing 1 required positional argument: 'hidden'"
     ]
    }
   ],
   "source": [
    "seed_torch(22)\n",
    "epoch = 10\n",
    "batch_size = 20\n",
    "early_stop = 5\n",
    "test_loss_list = []\n",
    "train_loss_list = []\n",
    "\n",
    "# 初始化模型\n",
    "model = BiGRU()\n",
    "model_ = BiGRU()\n",
    "\n",
    "# 数据处理部分\n",
    "gd = GetData(pos=10, neg=10)\n",
    "x, y = gd.split_sen()\n",
    "pos = y.count(1)\n",
    "neg = y.count(0)\n",
    "pos_train = int(pos*0.9)\n",
    "neg_train = int(neg*0.9)\n",
    "x1 = x[:pos]  # 3988   --- 3589train 399test\n",
    "y1 = y[:pos]\n",
    "x0 = x[pos:]  # 3589   ---- 3230train 359test\n",
    "y0 = y[pos:]\n",
    "\n",
    "train_x = x0[:neg_train] + x1[:pos_train]\n",
    "train_y = y0[:neg_train] + y1[:pos_train]\n",
    "print(\"训练集有\"+str(len(train_x))+\"个数据\")\n",
    "\n",
    "# c = list(zip(train_x, train_y))\n",
    "# random.shuffle(c)\n",
    "# c = random.sample(c, 50)\n",
    "# train_x[:], train_y[:] = zip(*c)\n",
    "\n",
    "test_x = x0[neg_train:] + x1[pos_train:]\n",
    "test_y = y0[neg_train:] + y1[pos_train:]\n",
    "print(\"测试集有\"+str(len(test_x))+\"个数据\")\n",
    "\n",
    "bert = GetBERT()\n",
    "x_train = bert(train_x)\n",
    "x_test = bert(test_x)\n",
    "y_train = torch.tensor(train_y).float()\n",
    "y_test = torch.tensor(test_y).float()\n",
    "train_data = TensorDataset(x_train, y_train)\n",
    "train_dataLoader = DataLoader(train_data, batch_size=batch_size)\n",
    "test_data = TensorDataset(x_test, y_test)\n",
    "test_dataLoader = DataLoader(test_data, batch_size=batch_size)\n",
    "\n",
    "# 损失函数和优化器\n",
    "loss_func = nn.CrossEntropyLoss()\n",
    "optimizer = optim.Adam(model.parameters(), lr=0.001)\n",
    "train_model(epoch, train_dataLoader, test_dataLoader)\n",
    "p, y, test_loss, test_loss_list = test_model(test_dataLoader)\n",
    "ans = []\n",
    "for t in p:\n",
    "    if t[0]>t[1]:\n",
    "        ans.append(0)\n",
    "    else:\n",
    "        ans.append(1)\n",
    "print(accuracy_score(ans,y))"
   ]
  },
  {
   "cell_type": "code",
   "execution_count": null,
   "metadata": {},
   "outputs": [],
   "source": []
  }
 ],
 "metadata": {
  "kernelspec": {
   "display_name": "Python 3",
   "language": "python",
   "name": "python3"
  },
  "language_info": {
   "codemirror_mode": {
    "name": "ipython",
    "version": 3
   },
   "file_extension": ".py",
   "mimetype": "text/x-python",
   "name": "python",
   "nbconvert_exporter": "python",
   "pygments_lexer": "ipython3",
   "version": "3.8.3"
  }
 },
 "nbformat": 4,
 "nbformat_minor": 4
}
